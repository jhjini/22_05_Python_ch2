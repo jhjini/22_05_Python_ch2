{
  "nbformat": 4,
  "nbformat_minor": 0,
  "metadata": {
    "colab": {
      "provenance": [],
      "authorship_tag": "ABX9TyOIOtAQ3fKG9ZRWlL4dcXQe",
      "include_colab_link": true
    },
    "kernelspec": {
      "name": "python3",
      "display_name": "Python 3"
    },
    "language_info": {
      "name": "python"
    }
  },
  "cells": [
    {
      "cell_type": "markdown",
      "metadata": {
        "id": "view-in-github",
        "colab_type": "text"
      },
      "source": [
        "<a href=\"https://colab.research.google.com/github/jhjini/22_05_Python_ch2/blob/main/Untitled1.ipynb\" target=\"_parent\"><img src=\"https://colab.research.google.com/assets/colab-badge.svg\" alt=\"Open In Colab\"/></a>"
      ]
    },
    {
      "cell_type": "code",
      "execution_count": null,
      "metadata": {
        "id": "VTjVYSEiPi8H"
      },
      "outputs": [],
      "source": []
    },
    {
      "cell_type": "markdown",
      "source": [
        "사용자에게 이름과 나이를 입력하게 한다. 사용자가 100살이 되는 연도를 화면에 출력하는 프로그램을 작성하라"
      ],
      "metadata": {
        "id": "I3HqeK67Pjtr"
      }
    },
    {
      "cell_type": "code",
      "source": [
        "name = input(\"이름을 입력하시오:\")             # 변수 name에 input함수를 사용하여 사용자에게 이름을 입력받는 부분\n",
        "age = int(input(\"나이를 입력하시오:\"))         # 변수 age에 int(정수형선언) 함수로 사용자에게 나이를 입력받음\n",
        "year = 2022 - age + 100                        # 변수 year에 현재 연도 - 변수(age) + 100\n",
        "print(name + \"씨는\" + str(year) + \"년에 100살입니다.\")"
      ],
      "metadata": {
        "colab": {
          "base_uri": "https://localhost:8080/"
        },
        "id": "xD6x99x0P4Qj",
        "outputId": "aa8a0e28-ccf0-4818-ddb7-48177400c81b"
      },
      "execution_count": 2,
      "outputs": [
        {
          "output_type": "stream",
          "name": "stdout",
          "text": [
            "이름을 입력하시오:주혜진\n",
            "나이를 입력하시오:21\n",
            "주혜진씨는2101년에 100살입니다.\n"
          ]
        }
      ]
    },
    {
      "cell_type": "markdown",
      "source": [
        "사용자로부터 3개의 숫자를 받아서 평균을 계산하고 그 결과를 출력하는 프로그램을 작성하라"
      ],
      "metadata": {
        "id": "NC9YXXCfTanY"
      }
    },
    {
      "cell_type": "code",
      "source": [
        "n1 = int(input(\"첫 번째 숫자를 입력하시오:\"))\n",
        "n2 = int(input(\"두 번째 숫자를 입력하시오:\"))\n",
        "n3 = int(input(\"세 번째 숫자를 입력하시오:\"))\n",
        "average = (n1 + n2 + n3) / 3                   # 변수 aver에 n1, n2, n3를(로 묶어야 한다.) 더하고 3으로 나눈다\n",
        "sum = n1 + n2 + n3\n",
        "print(n1, n2, n3, \"합은\", str(sum) + \"이고\" \"의 평균은\", average, \"입니다.\")\n",
        "\n"
      ],
      "metadata": {
        "colab": {
          "base_uri": "https://localhost:8080/"
        },
        "id": "0_XoGxeKTj4T",
        "outputId": "fb985cff-545f-4888-e2d4-1118b4a0e9fe"
      },
      "execution_count": 14,
      "outputs": [
        {
          "output_type": "stream",
          "name": "stdout",
          "text": [
            "첫 번째 숫자를 입력하시오:10\n",
            "두 번째 숫자를 입력하시오:20\n",
            "세 번째 숫자를 입력하시오:30\n",
            "10 20 30 합은 60이고의 평균은 20.0 입니다.\n"
          ]
        }
      ]
    },
    {
      "cell_type": "markdown",
      "source": [
        "사용자로부터 원의 반지름을 입력 받아서 원의 면적을 계산하는 프로그램을 작성하라. 곱셈을 나타내는 기호는*이다."
      ],
      "metadata": {
        "id": "K-tim92zWThn"
      }
    },
    {
      "cell_type": "code",
      "source": [
        "radius = int(input(\"반지름을 입력하시오.:\"))\n",
        "area = 3.141592 * radius * radius\n",
        "print(\"반지름이\", radius, \"인 원의 넓이는 =\", area, \"입니다.\")"
      ],
      "metadata": {
        "colab": {
          "base_uri": "https://localhost:8080/"
        },
        "id": "91jjM_J2Wgu8",
        "outputId": "efec3d4d-6780-49ab-8309-83c29d59243a"
      },
      "execution_count": 16,
      "outputs": [
        {
          "output_type": "stream",
          "name": "stdout",
          "text": [
            "반지름을 입력하시오.:10\n",
            "반지름이 10 인 원의 넓이는 = 314.1592 입니다.\n"
          ]
        }
      ]
    }
  ]
}