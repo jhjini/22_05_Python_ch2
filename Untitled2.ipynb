{
  "nbformat": 4,
  "nbformat_minor": 0,
  "metadata": {
    "colab": {
      "provenance": [],
      "authorship_tag": "ABX9TyOi2LO5lOAzYNkf22BgZ+TL",
      "include_colab_link": true
    },
    "kernelspec": {
      "name": "python3",
      "display_name": "Python 3"
    },
    "language_info": {
      "name": "python"
    }
  },
  "cells": [
    {
      "cell_type": "markdown",
      "metadata": {
        "id": "view-in-github",
        "colab_type": "text"
      },
      "source": [
        "<a href=\"https://colab.research.google.com/github/jhjini/22_05_Python_ch2/blob/main/Untitled2.ipynb\" target=\"_parent\"><img src=\"https://colab.research.google.com/assets/colab-badge.svg\" alt=\"Open In Colab\"/></a>"
      ]
    },
    {
      "cell_type": "markdown",
      "source": [
        "19. 다음 보기의 사칙연산을 완성하시오. 한줄에 모두, 여러줄로 나누어서, 보기좋게 정리."
      ],
      "metadata": {
        "id": "8Q5694egTf_L"
      }
    },
    {
      "cell_type": "code",
      "source": [
        "print(1+2, 2-3, 3*4, 4/4)\n",
        "print(1+2)\n",
        "print(2-3)\n",
        "print(3*4)\n",
        "print(4/4)"
      ],
      "metadata": {
        "colab": {
          "base_uri": "https://localhost:8080/"
        },
        "id": "LqdDV7fUTz3s",
        "outputId": "99533590-32cd-4918-e0c7-90d1395eaef3"
      },
      "execution_count": 5,
      "outputs": [
        {
          "output_type": "stream",
          "name": "stdout",
          "text": [
            "3 -1 12 1.0\n",
            "3\n",
            "-1\n",
            "12\n",
            "1.0\n"
          ]
        }
      ]
    },
    {
      "cell_type": "markdown",
      "source": [
        "20. 아래의 출력화면을 간결하고 보기좋게 코딩하시오.\n"
      ],
      "metadata": {
        "id": "Lyl0Tl4JUuPH"
      }
    },
    {
      "cell_type": "code",
      "source": [
        "print(\"*\" * 40)\n",
        "print(\"* 제1조 1항 대한민국은 민주공화국이다. *\")\n",
        "print(\"*\" * 40)"
      ],
      "metadata": {
        "colab": {
          "base_uri": "https://localhost:8080/"
        },
        "id": "eJ1kjf2AU5CT",
        "outputId": "cbcd04a0-f220-4e55-e582-718b6a9e3cbc"
      },
      "execution_count": 2,
      "outputs": [
        {
          "output_type": "stream",
          "name": "stdout",
          "text": [
            "****************************************\n",
            "* 제1조 1항 대한민국은 민주공화국이다. *\n",
            "****************************************\n"
          ]
        }
      ]
    },
    {
      "cell_type": "markdown",
      "source": [
        "21. 사용자에게 성명, 나이, 주소를 입력받아서 출력하라."
      ],
      "metadata": {
        "id": "k_cTQxkTWFht"
      }
    },
    {
      "cell_type": "code",
      "source": [
        "name = input(\"이름을 입력하시오.: \")\n",
        "age  = input(\"나이를 입력하시오.: \")\n",
        "addr = input(\"주소를 입력하시오.: \")\n",
        "print(name)\n",
        "print(age)\n",
        "print(addr)\n",
        "print(name, age, addr)"
      ],
      "metadata": {
        "colab": {
          "base_uri": "https://localhost:8080/"
        },
        "id": "1a4n70NCWOBU",
        "outputId": "058526fa-5caf-458f-b2e8-28e1d3336a8a"
      },
      "execution_count": 3,
      "outputs": [
        {
          "output_type": "stream",
          "name": "stdout",
          "text": [
            "이름을 입력하시오.: 주혜진\n",
            "나이를 입력하시오.: 21\n",
            "주소를 입력하시오.: 전주시  완산구\n",
            "주혜진\n",
            "21\n",
            "전주시  완산구\n",
            "주혜진 21 전주시  완산구\n"
          ]
        }
      ]
    },
    {
      "cell_type": "code",
      "source": [
        "n1 = input(\"첫 번째 정수를 입력하시오.: \")\n",
        "n2 = input(\"두 번째 정수를 입력하시오.: \")\n",
        "print(\"두 합의 값은\", n1+n2, \"입니다.\")"
      ],
      "metadata": {
        "colab": {
          "base_uri": "https://localhost:8080/"
        },
        "id": "sYxP_jFmZqaO",
        "outputId": "1f47b93b-5697-4aa5-b209-683a6f76f1ce"
      },
      "execution_count": 4,
      "outputs": [
        {
          "output_type": "stream",
          "name": "stdout",
          "text": [
            "첫 번째 정수를 입력하시오.: 100\n",
            "두 번째 정수를 입력하시오.: 100\n",
            "두 합의 값은 100100 입니다.\n"
          ]
        }
      ]
    }
  ]
}